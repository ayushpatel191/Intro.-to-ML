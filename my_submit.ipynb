{
  "cells": [
    {
      "cell_type": "markdown",
      "metadata": {
        "id": "view-in-github",
        "colab_type": "text"
      },
      "source": [
        "<a href=\"https://colab.research.google.com/github/ayushpatel191/Intro.-to-ML/blob/main/my_submit.ipynb\" target=\"_parent\"><img src=\"https://colab.research.google.com/assets/colab-badge.svg\" alt=\"Open In Colab\"/></a>"
      ]
    },
    {
      "cell_type": "code",
      "execution_count": 1,
      "id": "c56be2d5-c1ae-453c-aa8b-67259da70572",
      "metadata": {
        "id": "c56be2d5-c1ae-453c-aa8b-67259da70572"
      },
      "outputs": [],
      "source": [
        "import numpy as np\n",
        "import pandas as pd\n",
        "\n",
        "train_data = pd.read_csv(\"train.csv\")\n",
        "test_data  = pd.read_csv(\"dummy_test.csv\")"
      ]
    },
    {
      "cell_type": "code",
      "execution_count": 2,
      "id": "a96eeb2c-ea37-491f-9e75-0ddecbf02710",
      "metadata": {
        "colab": {
          "base_uri": "https://localhost:8080/",
          "height": 423
        },
        "id": "a96eeb2c-ea37-491f-9e75-0ddecbf02710",
        "outputId": "c0d5c329-4ca8-43e7-d146-03ddbe8bbb96"
      },
      "outputs": [
        {
          "output_type": "execute_result",
          "data": {
            "text/plain": [
              "                      Time   OZONE     NO2  temp  humidity  no2op1  no2op2  \\\n",
              "0      2019-03-27 13:01:00  77.590   6.881  36.2      38.9   199.0   200.0   \n",
              "1      2019-03-27 13:03:00  78.710  11.057  36.3      37.7   196.0   200.0   \n",
              "2      2019-03-27 13:04:00  78.850   8.596  36.7      38.0   195.0   199.0   \n",
              "3      2019-03-27 13:07:00  79.270   7.248  37.0      37.5   193.0   198.0   \n",
              "4      2019-03-27 13:08:00  80.010   8.638  36.8      36.8   191.0   198.0   \n",
              "...                    ...     ...     ...   ...       ...     ...     ...   \n",
              "19995  2019-05-06 10:19:00  33.970   3.371  27.7      99.9   162.0   164.0   \n",
              "19996  2019-05-06 10:22:00  33.073   2.883  27.4      99.9   170.0   171.0   \n",
              "19997  2019-05-06 10:23:00  32.313   2.578  27.5      99.9   165.0   168.0   \n",
              "19998  2019-05-06 10:24:00  33.367   2.114  27.4      99.9   163.0   166.0   \n",
              "19999  2019-05-06 10:29:00  32.213   2.479  27.2      99.9   167.0   168.0   \n",
              "\n",
              "       o3op1  o3op2  \n",
              "0      240.0  197.0  \n",
              "1      237.0  196.0  \n",
              "2      235.0  196.0  \n",
              "3      233.0  195.0  \n",
              "4      231.0  195.0  \n",
              "...      ...    ...  \n",
              "19995  175.0  161.0  \n",
              "19996  180.0  168.0  \n",
              "19997  175.0  164.0  \n",
              "19998  174.0  161.0  \n",
              "19999  177.0  162.0  \n",
              "\n",
              "[20000 rows x 9 columns]"
            ],
            "text/html": [
              "\n",
              "  <div id=\"df-2734debd-8bd8-4c50-95ab-2ec64bac3cdd\">\n",
              "    <div class=\"colab-df-container\">\n",
              "      <div>\n",
              "<style scoped>\n",
              "    .dataframe tbody tr th:only-of-type {\n",
              "        vertical-align: middle;\n",
              "    }\n",
              "\n",
              "    .dataframe tbody tr th {\n",
              "        vertical-align: top;\n",
              "    }\n",
              "\n",
              "    .dataframe thead th {\n",
              "        text-align: right;\n",
              "    }\n",
              "</style>\n",
              "<table border=\"1\" class=\"dataframe\">\n",
              "  <thead>\n",
              "    <tr style=\"text-align: right;\">\n",
              "      <th></th>\n",
              "      <th>Time</th>\n",
              "      <th>OZONE</th>\n",
              "      <th>NO2</th>\n",
              "      <th>temp</th>\n",
              "      <th>humidity</th>\n",
              "      <th>no2op1</th>\n",
              "      <th>no2op2</th>\n",
              "      <th>o3op1</th>\n",
              "      <th>o3op2</th>\n",
              "    </tr>\n",
              "  </thead>\n",
              "  <tbody>\n",
              "    <tr>\n",
              "      <th>0</th>\n",
              "      <td>2019-03-27 13:01:00</td>\n",
              "      <td>77.590</td>\n",
              "      <td>6.881</td>\n",
              "      <td>36.2</td>\n",
              "      <td>38.9</td>\n",
              "      <td>199.0</td>\n",
              "      <td>200.0</td>\n",
              "      <td>240.0</td>\n",
              "      <td>197.0</td>\n",
              "    </tr>\n",
              "    <tr>\n",
              "      <th>1</th>\n",
              "      <td>2019-03-27 13:03:00</td>\n",
              "      <td>78.710</td>\n",
              "      <td>11.057</td>\n",
              "      <td>36.3</td>\n",
              "      <td>37.7</td>\n",
              "      <td>196.0</td>\n",
              "      <td>200.0</td>\n",
              "      <td>237.0</td>\n",
              "      <td>196.0</td>\n",
              "    </tr>\n",
              "    <tr>\n",
              "      <th>2</th>\n",
              "      <td>2019-03-27 13:04:00</td>\n",
              "      <td>78.850</td>\n",
              "      <td>8.596</td>\n",
              "      <td>36.7</td>\n",
              "      <td>38.0</td>\n",
              "      <td>195.0</td>\n",
              "      <td>199.0</td>\n",
              "      <td>235.0</td>\n",
              "      <td>196.0</td>\n",
              "    </tr>\n",
              "    <tr>\n",
              "      <th>3</th>\n",
              "      <td>2019-03-27 13:07:00</td>\n",
              "      <td>79.270</td>\n",
              "      <td>7.248</td>\n",
              "      <td>37.0</td>\n",
              "      <td>37.5</td>\n",
              "      <td>193.0</td>\n",
              "      <td>198.0</td>\n",
              "      <td>233.0</td>\n",
              "      <td>195.0</td>\n",
              "    </tr>\n",
              "    <tr>\n",
              "      <th>4</th>\n",
              "      <td>2019-03-27 13:08:00</td>\n",
              "      <td>80.010</td>\n",
              "      <td>8.638</td>\n",
              "      <td>36.8</td>\n",
              "      <td>36.8</td>\n",
              "      <td>191.0</td>\n",
              "      <td>198.0</td>\n",
              "      <td>231.0</td>\n",
              "      <td>195.0</td>\n",
              "    </tr>\n",
              "    <tr>\n",
              "      <th>...</th>\n",
              "      <td>...</td>\n",
              "      <td>...</td>\n",
              "      <td>...</td>\n",
              "      <td>...</td>\n",
              "      <td>...</td>\n",
              "      <td>...</td>\n",
              "      <td>...</td>\n",
              "      <td>...</td>\n",
              "      <td>...</td>\n",
              "    </tr>\n",
              "    <tr>\n",
              "      <th>19995</th>\n",
              "      <td>2019-05-06 10:19:00</td>\n",
              "      <td>33.970</td>\n",
              "      <td>3.371</td>\n",
              "      <td>27.7</td>\n",
              "      <td>99.9</td>\n",
              "      <td>162.0</td>\n",
              "      <td>164.0</td>\n",
              "      <td>175.0</td>\n",
              "      <td>161.0</td>\n",
              "    </tr>\n",
              "    <tr>\n",
              "      <th>19996</th>\n",
              "      <td>2019-05-06 10:22:00</td>\n",
              "      <td>33.073</td>\n",
              "      <td>2.883</td>\n",
              "      <td>27.4</td>\n",
              "      <td>99.9</td>\n",
              "      <td>170.0</td>\n",
              "      <td>171.0</td>\n",
              "      <td>180.0</td>\n",
              "      <td>168.0</td>\n",
              "    </tr>\n",
              "    <tr>\n",
              "      <th>19997</th>\n",
              "      <td>2019-05-06 10:23:00</td>\n",
              "      <td>32.313</td>\n",
              "      <td>2.578</td>\n",
              "      <td>27.5</td>\n",
              "      <td>99.9</td>\n",
              "      <td>165.0</td>\n",
              "      <td>168.0</td>\n",
              "      <td>175.0</td>\n",
              "      <td>164.0</td>\n",
              "    </tr>\n",
              "    <tr>\n",
              "      <th>19998</th>\n",
              "      <td>2019-05-06 10:24:00</td>\n",
              "      <td>33.367</td>\n",
              "      <td>2.114</td>\n",
              "      <td>27.4</td>\n",
              "      <td>99.9</td>\n",
              "      <td>163.0</td>\n",
              "      <td>166.0</td>\n",
              "      <td>174.0</td>\n",
              "      <td>161.0</td>\n",
              "    </tr>\n",
              "    <tr>\n",
              "      <th>19999</th>\n",
              "      <td>2019-05-06 10:29:00</td>\n",
              "      <td>32.213</td>\n",
              "      <td>2.479</td>\n",
              "      <td>27.2</td>\n",
              "      <td>99.9</td>\n",
              "      <td>167.0</td>\n",
              "      <td>168.0</td>\n",
              "      <td>177.0</td>\n",
              "      <td>162.0</td>\n",
              "    </tr>\n",
              "  </tbody>\n",
              "</table>\n",
              "<p>20000 rows × 9 columns</p>\n",
              "</div>\n",
              "      <button class=\"colab-df-convert\" onclick=\"convertToInteractive('df-2734debd-8bd8-4c50-95ab-2ec64bac3cdd')\"\n",
              "              title=\"Convert this dataframe to an interactive table.\"\n",
              "              style=\"display:none;\">\n",
              "        \n",
              "  <svg xmlns=\"http://www.w3.org/2000/svg\" height=\"24px\"viewBox=\"0 0 24 24\"\n",
              "       width=\"24px\">\n",
              "    <path d=\"M0 0h24v24H0V0z\" fill=\"none\"/>\n",
              "    <path d=\"M18.56 5.44l.94 2.06.94-2.06 2.06-.94-2.06-.94-.94-2.06-.94 2.06-2.06.94zm-11 1L8.5 8.5l.94-2.06 2.06-.94-2.06-.94L8.5 2.5l-.94 2.06-2.06.94zm10 10l.94 2.06.94-2.06 2.06-.94-2.06-.94-.94-2.06-.94 2.06-2.06.94z\"/><path d=\"M17.41 7.96l-1.37-1.37c-.4-.4-.92-.59-1.43-.59-.52 0-1.04.2-1.43.59L10.3 9.45l-7.72 7.72c-.78.78-.78 2.05 0 2.83L4 21.41c.39.39.9.59 1.41.59.51 0 1.02-.2 1.41-.59l7.78-7.78 2.81-2.81c.8-.78.8-2.07 0-2.86zM5.41 20L4 18.59l7.72-7.72 1.47 1.35L5.41 20z\"/>\n",
              "  </svg>\n",
              "      </button>\n",
              "      \n",
              "  <style>\n",
              "    .colab-df-container {\n",
              "      display:flex;\n",
              "      flex-wrap:wrap;\n",
              "      gap: 12px;\n",
              "    }\n",
              "\n",
              "    .colab-df-convert {\n",
              "      background-color: #E8F0FE;\n",
              "      border: none;\n",
              "      border-radius: 50%;\n",
              "      cursor: pointer;\n",
              "      display: none;\n",
              "      fill: #1967D2;\n",
              "      height: 32px;\n",
              "      padding: 0 0 0 0;\n",
              "      width: 32px;\n",
              "    }\n",
              "\n",
              "    .colab-df-convert:hover {\n",
              "      background-color: #E2EBFA;\n",
              "      box-shadow: 0px 1px 2px rgba(60, 64, 67, 0.3), 0px 1px 3px 1px rgba(60, 64, 67, 0.15);\n",
              "      fill: #174EA6;\n",
              "    }\n",
              "\n",
              "    [theme=dark] .colab-df-convert {\n",
              "      background-color: #3B4455;\n",
              "      fill: #D2E3FC;\n",
              "    }\n",
              "\n",
              "    [theme=dark] .colab-df-convert:hover {\n",
              "      background-color: #434B5C;\n",
              "      box-shadow: 0px 1px 3px 1px rgba(0, 0, 0, 0.15);\n",
              "      filter: drop-shadow(0px 1px 2px rgba(0, 0, 0, 0.3));\n",
              "      fill: #FFFFFF;\n",
              "    }\n",
              "  </style>\n",
              "\n",
              "      <script>\n",
              "        const buttonEl =\n",
              "          document.querySelector('#df-2734debd-8bd8-4c50-95ab-2ec64bac3cdd button.colab-df-convert');\n",
              "        buttonEl.style.display =\n",
              "          google.colab.kernel.accessAllowed ? 'block' : 'none';\n",
              "\n",
              "        async function convertToInteractive(key) {\n",
              "          const element = document.querySelector('#df-2734debd-8bd8-4c50-95ab-2ec64bac3cdd');\n",
              "          const dataTable =\n",
              "            await google.colab.kernel.invokeFunction('convertToInteractive',\n",
              "                                                     [key], {});\n",
              "          if (!dataTable) return;\n",
              "\n",
              "          const docLinkHtml = 'Like what you see? Visit the ' +\n",
              "            '<a target=\"_blank\" href=https://colab.research.google.com/notebooks/data_table.ipynb>data table notebook</a>'\n",
              "            + ' to learn more about interactive tables.';\n",
              "          element.innerHTML = '';\n",
              "          dataTable['output_type'] = 'display_data';\n",
              "          await google.colab.output.renderOutput(dataTable, element);\n",
              "          const docLink = document.createElement('div');\n",
              "          docLink.innerHTML = docLinkHtml;\n",
              "          element.appendChild(docLink);\n",
              "        }\n",
              "      </script>\n",
              "    </div>\n",
              "  </div>\n",
              "  "
            ]
          },
          "metadata": {},
          "execution_count": 2
        }
      ],
      "source": [
        "train_data"
      ]
    },
    {
      "cell_type": "code",
      "execution_count": 3,
      "id": "46657ec9-0c38-4b4a-bc9b-9ed88d821483",
      "metadata": {
        "colab": {
          "base_uri": "https://localhost:8080/",
          "height": 423
        },
        "id": "46657ec9-0c38-4b4a-bc9b-9ed88d821483",
        "outputId": "bd43618b-a389-48c5-cadb-6cac117a042c"
      },
      "outputs": [
        {
          "output_type": "execute_result",
          "data": {
            "text/plain": [
              "                     Time   OZONE     NO2  temp  humidity  no2op1  no2op2  \\\n",
              "0     2019-03-27 17:05:00  71.327   8.801  41.2      28.9   179.0   194.0   \n",
              "1     2019-03-27 17:06:00  72.317   5.536  41.1      28.8   181.0   196.0   \n",
              "2     2019-03-27 17:07:00  74.440   4.574  41.0      29.0   181.0   195.0   \n",
              "3     2019-03-27 17:09:00  74.033   6.426  40.9      28.9   179.0   194.0   \n",
              "4     2019-03-27 17:13:00  73.080   5.825  40.9      28.1   181.0   195.0   \n",
              "...                   ...     ...     ...   ...       ...     ...     ...   \n",
              "4995  2019-04-14 05:36:00   8.432  24.427  31.2      99.9   201.0   204.0   \n",
              "4996  2019-04-14 05:41:00   9.808  19.480  31.2      99.9   197.0   204.0   \n",
              "4997  2019-04-14 05:42:00   8.782  17.423  31.1      99.9   199.0   204.0   \n",
              "4998  2019-04-14 05:44:00   9.678  16.017  31.2      99.9   200.0   204.0   \n",
              "4999  2019-04-14 05:45:00   9.579  14.750  31.2      99.9   198.0   204.0   \n",
              "\n",
              "      o3op1  o3op2  \n",
              "0     220.0  192.0  \n",
              "1     222.0  192.0  \n",
              "2     222.0  192.0  \n",
              "3     220.0  192.0  \n",
              "4     222.0  193.0  \n",
              "...     ...    ...  \n",
              "4995  203.0  202.0  \n",
              "4996  199.0  201.0  \n",
              "4997  200.0  201.0  \n",
              "4998  201.0  202.0  \n",
              "4999  199.0  201.0  \n",
              "\n",
              "[5000 rows x 9 columns]"
            ],
            "text/html": [
              "\n",
              "  <div id=\"df-352f67e5-46a7-43c8-af12-4de4c1c84fca\">\n",
              "    <div class=\"colab-df-container\">\n",
              "      <div>\n",
              "<style scoped>\n",
              "    .dataframe tbody tr th:only-of-type {\n",
              "        vertical-align: middle;\n",
              "    }\n",
              "\n",
              "    .dataframe tbody tr th {\n",
              "        vertical-align: top;\n",
              "    }\n",
              "\n",
              "    .dataframe thead th {\n",
              "        text-align: right;\n",
              "    }\n",
              "</style>\n",
              "<table border=\"1\" class=\"dataframe\">\n",
              "  <thead>\n",
              "    <tr style=\"text-align: right;\">\n",
              "      <th></th>\n",
              "      <th>Time</th>\n",
              "      <th>OZONE</th>\n",
              "      <th>NO2</th>\n",
              "      <th>temp</th>\n",
              "      <th>humidity</th>\n",
              "      <th>no2op1</th>\n",
              "      <th>no2op2</th>\n",
              "      <th>o3op1</th>\n",
              "      <th>o3op2</th>\n",
              "    </tr>\n",
              "  </thead>\n",
              "  <tbody>\n",
              "    <tr>\n",
              "      <th>0</th>\n",
              "      <td>2019-03-27 17:05:00</td>\n",
              "      <td>71.327</td>\n",
              "      <td>8.801</td>\n",
              "      <td>41.2</td>\n",
              "      <td>28.9</td>\n",
              "      <td>179.0</td>\n",
              "      <td>194.0</td>\n",
              "      <td>220.0</td>\n",
              "      <td>192.0</td>\n",
              "    </tr>\n",
              "    <tr>\n",
              "      <th>1</th>\n",
              "      <td>2019-03-27 17:06:00</td>\n",
              "      <td>72.317</td>\n",
              "      <td>5.536</td>\n",
              "      <td>41.1</td>\n",
              "      <td>28.8</td>\n",
              "      <td>181.0</td>\n",
              "      <td>196.0</td>\n",
              "      <td>222.0</td>\n",
              "      <td>192.0</td>\n",
              "    </tr>\n",
              "    <tr>\n",
              "      <th>2</th>\n",
              "      <td>2019-03-27 17:07:00</td>\n",
              "      <td>74.440</td>\n",
              "      <td>4.574</td>\n",
              "      <td>41.0</td>\n",
              "      <td>29.0</td>\n",
              "      <td>181.0</td>\n",
              "      <td>195.0</td>\n",
              "      <td>222.0</td>\n",
              "      <td>192.0</td>\n",
              "    </tr>\n",
              "    <tr>\n",
              "      <th>3</th>\n",
              "      <td>2019-03-27 17:09:00</td>\n",
              "      <td>74.033</td>\n",
              "      <td>6.426</td>\n",
              "      <td>40.9</td>\n",
              "      <td>28.9</td>\n",
              "      <td>179.0</td>\n",
              "      <td>194.0</td>\n",
              "      <td>220.0</td>\n",
              "      <td>192.0</td>\n",
              "    </tr>\n",
              "    <tr>\n",
              "      <th>4</th>\n",
              "      <td>2019-03-27 17:13:00</td>\n",
              "      <td>73.080</td>\n",
              "      <td>5.825</td>\n",
              "      <td>40.9</td>\n",
              "      <td>28.1</td>\n",
              "      <td>181.0</td>\n",
              "      <td>195.0</td>\n",
              "      <td>222.0</td>\n",
              "      <td>193.0</td>\n",
              "    </tr>\n",
              "    <tr>\n",
              "      <th>...</th>\n",
              "      <td>...</td>\n",
              "      <td>...</td>\n",
              "      <td>...</td>\n",
              "      <td>...</td>\n",
              "      <td>...</td>\n",
              "      <td>...</td>\n",
              "      <td>...</td>\n",
              "      <td>...</td>\n",
              "      <td>...</td>\n",
              "    </tr>\n",
              "    <tr>\n",
              "      <th>4995</th>\n",
              "      <td>2019-04-14 05:36:00</td>\n",
              "      <td>8.432</td>\n",
              "      <td>24.427</td>\n",
              "      <td>31.2</td>\n",
              "      <td>99.9</td>\n",
              "      <td>201.0</td>\n",
              "      <td>204.0</td>\n",
              "      <td>203.0</td>\n",
              "      <td>202.0</td>\n",
              "    </tr>\n",
              "    <tr>\n",
              "      <th>4996</th>\n",
              "      <td>2019-04-14 05:41:00</td>\n",
              "      <td>9.808</td>\n",
              "      <td>19.480</td>\n",
              "      <td>31.2</td>\n",
              "      <td>99.9</td>\n",
              "      <td>197.0</td>\n",
              "      <td>204.0</td>\n",
              "      <td>199.0</td>\n",
              "      <td>201.0</td>\n",
              "    </tr>\n",
              "    <tr>\n",
              "      <th>4997</th>\n",
              "      <td>2019-04-14 05:42:00</td>\n",
              "      <td>8.782</td>\n",
              "      <td>17.423</td>\n",
              "      <td>31.1</td>\n",
              "      <td>99.9</td>\n",
              "      <td>199.0</td>\n",
              "      <td>204.0</td>\n",
              "      <td>200.0</td>\n",
              "      <td>201.0</td>\n",
              "    </tr>\n",
              "    <tr>\n",
              "      <th>4998</th>\n",
              "      <td>2019-04-14 05:44:00</td>\n",
              "      <td>9.678</td>\n",
              "      <td>16.017</td>\n",
              "      <td>31.2</td>\n",
              "      <td>99.9</td>\n",
              "      <td>200.0</td>\n",
              "      <td>204.0</td>\n",
              "      <td>201.0</td>\n",
              "      <td>202.0</td>\n",
              "    </tr>\n",
              "    <tr>\n",
              "      <th>4999</th>\n",
              "      <td>2019-04-14 05:45:00</td>\n",
              "      <td>9.579</td>\n",
              "      <td>14.750</td>\n",
              "      <td>31.2</td>\n",
              "      <td>99.9</td>\n",
              "      <td>198.0</td>\n",
              "      <td>204.0</td>\n",
              "      <td>199.0</td>\n",
              "      <td>201.0</td>\n",
              "    </tr>\n",
              "  </tbody>\n",
              "</table>\n",
              "<p>5000 rows × 9 columns</p>\n",
              "</div>\n",
              "      <button class=\"colab-df-convert\" onclick=\"convertToInteractive('df-352f67e5-46a7-43c8-af12-4de4c1c84fca')\"\n",
              "              title=\"Convert this dataframe to an interactive table.\"\n",
              "              style=\"display:none;\">\n",
              "        \n",
              "  <svg xmlns=\"http://www.w3.org/2000/svg\" height=\"24px\"viewBox=\"0 0 24 24\"\n",
              "       width=\"24px\">\n",
              "    <path d=\"M0 0h24v24H0V0z\" fill=\"none\"/>\n",
              "    <path d=\"M18.56 5.44l.94 2.06.94-2.06 2.06-.94-2.06-.94-.94-2.06-.94 2.06-2.06.94zm-11 1L8.5 8.5l.94-2.06 2.06-.94-2.06-.94L8.5 2.5l-.94 2.06-2.06.94zm10 10l.94 2.06.94-2.06 2.06-.94-2.06-.94-.94-2.06-.94 2.06-2.06.94z\"/><path d=\"M17.41 7.96l-1.37-1.37c-.4-.4-.92-.59-1.43-.59-.52 0-1.04.2-1.43.59L10.3 9.45l-7.72 7.72c-.78.78-.78 2.05 0 2.83L4 21.41c.39.39.9.59 1.41.59.51 0 1.02-.2 1.41-.59l7.78-7.78 2.81-2.81c.8-.78.8-2.07 0-2.86zM5.41 20L4 18.59l7.72-7.72 1.47 1.35L5.41 20z\"/>\n",
              "  </svg>\n",
              "      </button>\n",
              "      \n",
              "  <style>\n",
              "    .colab-df-container {\n",
              "      display:flex;\n",
              "      flex-wrap:wrap;\n",
              "      gap: 12px;\n",
              "    }\n",
              "\n",
              "    .colab-df-convert {\n",
              "      background-color: #E8F0FE;\n",
              "      border: none;\n",
              "      border-radius: 50%;\n",
              "      cursor: pointer;\n",
              "      display: none;\n",
              "      fill: #1967D2;\n",
              "      height: 32px;\n",
              "      padding: 0 0 0 0;\n",
              "      width: 32px;\n",
              "    }\n",
              "\n",
              "    .colab-df-convert:hover {\n",
              "      background-color: #E2EBFA;\n",
              "      box-shadow: 0px 1px 2px rgba(60, 64, 67, 0.3), 0px 1px 3px 1px rgba(60, 64, 67, 0.15);\n",
              "      fill: #174EA6;\n",
              "    }\n",
              "\n",
              "    [theme=dark] .colab-df-convert {\n",
              "      background-color: #3B4455;\n",
              "      fill: #D2E3FC;\n",
              "    }\n",
              "\n",
              "    [theme=dark] .colab-df-convert:hover {\n",
              "      background-color: #434B5C;\n",
              "      box-shadow: 0px 1px 3px 1px rgba(0, 0, 0, 0.15);\n",
              "      filter: drop-shadow(0px 1px 2px rgba(0, 0, 0, 0.3));\n",
              "      fill: #FFFFFF;\n",
              "    }\n",
              "  </style>\n",
              "\n",
              "      <script>\n",
              "        const buttonEl =\n",
              "          document.querySelector('#df-352f67e5-46a7-43c8-af12-4de4c1c84fca button.colab-df-convert');\n",
              "        buttonEl.style.display =\n",
              "          google.colab.kernel.accessAllowed ? 'block' : 'none';\n",
              "\n",
              "        async function convertToInteractive(key) {\n",
              "          const element = document.querySelector('#df-352f67e5-46a7-43c8-af12-4de4c1c84fca');\n",
              "          const dataTable =\n",
              "            await google.colab.kernel.invokeFunction('convertToInteractive',\n",
              "                                                     [key], {});\n",
              "          if (!dataTable) return;\n",
              "\n",
              "          const docLinkHtml = 'Like what you see? Visit the ' +\n",
              "            '<a target=\"_blank\" href=https://colab.research.google.com/notebooks/data_table.ipynb>data table notebook</a>'\n",
              "            + ' to learn more about interactive tables.';\n",
              "          element.innerHTML = '';\n",
              "          dataTable['output_type'] = 'display_data';\n",
              "          await google.colab.output.renderOutput(dataTable, element);\n",
              "          const docLink = document.createElement('div');\n",
              "          docLink.innerHTML = docLinkHtml;\n",
              "          element.appendChild(docLink);\n",
              "        }\n",
              "      </script>\n",
              "    </div>\n",
              "  </div>\n",
              "  "
            ]
          },
          "metadata": {},
          "execution_count": 3
        }
      ],
      "source": [
        "test_data"
      ]
    },
    {
      "cell_type": "code",
      "execution_count": 4,
      "id": "382c85c6-c18b-46ef-a7f2-2b38f4bba997",
      "metadata": {
        "id": "382c85c6-c18b-46ef-a7f2-2b38f4bba997"
      },
      "outputs": [],
      "source": [
        "X_train = train_data[[\"no2op1\", \"no2op2\", \"o3op1\", \"o3op2\"]]\n",
        "Y_train = train_data[[\"OZONE\", \"NO2\"]]"
      ]
    },
    {
      "cell_type": "code",
      "execution_count": 5,
      "id": "0873f872-3e9e-4443-9d24-2e588f9c3168",
      "metadata": {
        "id": "0873f872-3e9e-4443-9d24-2e588f9c3168"
      },
      "outputs": [],
      "source": [
        "X_test = test_data[[\"no2op1\", \"no2op2\", \"o3op1\", \"o3op2\"]]\n",
        "Y_test = test_data[[\"OZONE\", \"NO2\"]]"
      ]
    },
    {
      "cell_type": "code",
      "execution_count": 6,
      "id": "7eb6cab5-fc3f-4793-8d43-ae06c670fa85",
      "metadata": {
        "id": "7eb6cab5-fc3f-4793-8d43-ae06c670fa85"
      },
      "outputs": [],
      "source": [
        "### Models below ###"
      ]
    },
    {
      "cell_type": "code",
      "execution_count": 7,
      "id": "04c3e055-805f-4ab4-8648-0702ee779b30",
      "metadata": {
        "id": "04c3e055-805f-4ab4-8648-0702ee779b30"
      },
      "outputs": [],
      "source": [
        "from sklearn.metrics import mean_absolute_error as mae"
      ]
    },
    {
      "cell_type": "code",
      "execution_count": 8,
      "id": "6f80e8d3-09ba-4ccf-9058-ada6468cd264",
      "metadata": {
        "id": "6f80e8d3-09ba-4ccf-9058-ada6468cd264"
      },
      "outputs": [],
      "source": [
        "from sklearn.linear_model import LinearRegression"
      ]
    },
    {
      "cell_type": "code",
      "execution_count": 9,
      "id": "f8bc5559-e0d6-42c2-81e8-aee488e9586a",
      "metadata": {
        "colab": {
          "base_uri": "https://localhost:8080/"
        },
        "id": "f8bc5559-e0d6-42c2-81e8-aee488e9586a",
        "outputId": "028f814e-002c-4580-8768-06b2a698f9fc"
      },
      "outputs": [
        {
          "output_type": "stream",
          "name": "stdout",
          "text": [
            "MAE = 6.083018914678858\n",
            "MAE = 6.540100093842782\n",
            "MAE = 5.6259377355149205\n"
          ]
        }
      ],
      "source": [
        "linreg = LinearRegression()\n",
        "\n",
        "linreg.fit(X_train, Y_train)\n",
        "Y_pred = linreg.predict(X_train)\n",
        "print(\"MAE =\", mae(Y_train, Y_pred))\n",
        "print(\"MAE =\", mae(Y_train[[\"NO2\"]], Y_pred[:,1]))\n",
        "print(\"MAE =\", mae(Y_train[[\"OZONE\"]], Y_pred[:,0]))"
      ]
    },
    {
      "cell_type": "code",
      "execution_count": 10,
      "id": "5cb1a607-983c-449f-92e1-00bf40349ab3",
      "metadata": {
        "id": "5cb1a607-983c-449f-92e1-00bf40349ab3"
      },
      "outputs": [],
      "source": [
        "import matplotlib.pyplot  as plt"
      ]
    },
    {
      "cell_type": "code",
      "execution_count": 11,
      "id": "22d34298-9a36-498e-a044-1a006082fdfc",
      "metadata": {
        "id": "22d34298-9a36-498e-a044-1a006082fdfc"
      },
      "outputs": [],
      "source": [
        "from sklearn.linear_model import Ridge, Lasso"
      ]
    },
    {
      "cell_type": "code",
      "execution_count": 12,
      "id": "4a3ffdc1-aca3-4354-a21c-386b483f2083",
      "metadata": {
        "colab": {
          "base_uri": "https://localhost:8080/"
        },
        "id": "4a3ffdc1-aca3-4354-a21c-386b483f2083",
        "outputId": "ed0882a7-d71b-49fb-9357-bebffdfb7c0d"
      },
      "outputs": [
        {
          "output_type": "stream",
          "name": "stdout",
          "text": [
            "MAE = 6.1140201947368205\n"
          ]
        }
      ],
      "source": [
        "ridge = Ridge(alpha = 10)\n",
        "ridge.fit(X_train, Y_train)\n",
        "Y_pred = ridge.predict(X_test)\n",
        "print(\"MAE =\", mae(Y_test, Y_pred))"
      ]
    },
    {
      "cell_type": "code",
      "execution_count": 13,
      "id": "81525910-05f7-4419-a514-b60cc7cfab1a",
      "metadata": {
        "colab": {
          "base_uri": "https://localhost:8080/"
        },
        "id": "81525910-05f7-4419-a514-b60cc7cfab1a",
        "outputId": "feff3d4c-5e1b-4841-fa9a-9e5d4f5058ec"
      },
      "outputs": [
        {
          "output_type": "stream",
          "name": "stdout",
          "text": [
            "MAE = 6.1140160191780275\n"
          ]
        }
      ],
      "source": [
        "ridge = Ridge(alpha = 0.0010)\n",
        "ridge.fit(X_train, Y_train)\n",
        "Y_pred = ridge.predict(X_test)\n",
        "print(\"MAE =\", mae(Y_test, Y_pred))"
      ]
    },
    {
      "cell_type": "code",
      "execution_count": 14,
      "id": "5985ed31-9acf-47b1-b5e3-81b6d5f75807",
      "metadata": {
        "colab": {
          "base_uri": "https://localhost:8080/"
        },
        "id": "5985ed31-9acf-47b1-b5e3-81b6d5f75807",
        "outputId": "7bd29724-c60a-44f7-a520-e4282b2398cd"
      },
      "outputs": [
        {
          "output_type": "stream",
          "name": "stdout",
          "text": [
            "MAE = 6.082783654095021\n"
          ]
        }
      ],
      "source": [
        "ridge = Ridge(alpha = 100)\n",
        "ridge.fit(X_train, Y_train)\n",
        "Y_pred = ridge.predict(X_train)\n",
        "print(\"MAE =\", mae(Y_train, Y_pred))"
      ]
    },
    {
      "cell_type": "code",
      "execution_count": 15,
      "id": "cde02905-821e-4eb3-a77e-8f1e538f20bd",
      "metadata": {
        "colab": {
          "base_uri": "https://localhost:8080/"
        },
        "id": "cde02905-821e-4eb3-a77e-8f1e538f20bd",
        "outputId": "3f6ed08b-1f6b-4977-be60-3a8c79418a25"
      },
      "outputs": [
        {
          "output_type": "stream",
          "name": "stdout",
          "text": [
            "MAE = 6.081746734562332\n",
            "MAE = 6.5368216202424465\n",
            "MAE = 5.626671848882208\n"
          ]
        }
      ],
      "source": [
        "ridge = Ridge(alpha = 1000)\n",
        "ridge.fit(X_train, Y_train)\n",
        "Y_pred = ridge.predict(X_train)\n",
        "print(\"MAE =\", mae(Y_train, Y_pred))\n",
        "print(\"MAE =\", mae(Y_train[[\"NO2\"]], Y_pred[:,1]))\n",
        "print(\"MAE =\", mae(Y_train[[\"OZONE\"]], Y_pred[:,0]))"
      ]
    },
    {
      "cell_type": "code",
      "execution_count": 16,
      "id": "177f8fd1-7bf6-4fdd-ad90-0d4b9c48b781",
      "metadata": {
        "colab": {
          "base_uri": "https://localhost:8080/"
        },
        "id": "177f8fd1-7bf6-4fdd-ad90-0d4b9c48b781",
        "outputId": "79b69327-245d-4fef-969b-1fd83d1d6b5f"
      },
      "outputs": [
        {
          "output_type": "stream",
          "name": "stdout",
          "text": [
            "MAE = 6.537024370281183\n",
            "MAE = 5.6259346866414095\n"
          ]
        },
        {
          "output_type": "stream",
          "name": "stderr",
          "text": [
            "/usr/local/lib/python3.10/dist-packages/sklearn/linear_model/_coordinate_descent.py:631: ConvergenceWarning: Objective did not converge. You might want to increase the number of iterations, check the scale of the features or consider increasing regularisation. Duality gap: 5.604e+05, tolerance: 7.077e+02\n",
            "  model = cd_fast.enet_coordinate_descent(\n",
            "/usr/local/lib/python3.10/dist-packages/sklearn/linear_model/_coordinate_descent.py:631: ConvergenceWarning: Objective did not converge. You might want to increase the number of iterations, check the scale of the features or consider increasing regularisation. Duality gap: 8.275e+05, tolerance: 2.355e+02\n",
            "  model = cd_fast.enet_coordinate_descent(\n"
          ]
        }
      ],
      "source": [
        "lasso = Lasso(alpha = 0.0001)\n",
        "lasso.fit(X_train, Y_train)\n",
        "Y_pred = lasso.predict(X_train)\n",
        "print(\"MAE =\", mae(Y_train[[\"NO2\"]], Y_pred[:,1]))\n",
        "print(\"MAE =\", mae(Y_train[[\"OZONE\"]], Y_pred[:,0]))"
      ]
    },
    {
      "cell_type": "code",
      "execution_count": 17,
      "id": "2b570d0e-5cf4-4085-be62-8be091105dda",
      "metadata": {
        "colab": {
          "base_uri": "https://localhost:8080/"
        },
        "id": "2b570d0e-5cf4-4085-be62-8be091105dda",
        "outputId": "269ac6a2-b97b-486b-9490-e8e98e67e1e4"
      },
      "outputs": [
        {
          "output_type": "stream",
          "name": "stdout",
          "text": [
            "MAE = 6.537028661060871\n",
            "MAE = 5.625934951112154\n"
          ]
        },
        {
          "output_type": "stream",
          "name": "stderr",
          "text": [
            "/usr/local/lib/python3.10/dist-packages/sklearn/linear_model/_coordinate_descent.py:631: ConvergenceWarning: Objective did not converge. You might want to increase the number of iterations, check the scale of the features or consider increasing regularisation. Duality gap: 5.622e+05, tolerance: 7.077e+02\n",
            "  model = cd_fast.enet_coordinate_descent(\n",
            "/usr/local/lib/python3.10/dist-packages/sklearn/linear_model/_coordinate_descent.py:631: ConvergenceWarning: Objective did not converge. You might want to increase the number of iterations, check the scale of the features or consider increasing regularisation. Duality gap: 8.289e+05, tolerance: 2.355e+02\n",
            "  model = cd_fast.enet_coordinate_descent(\n"
          ]
        }
      ],
      "source": [
        "lasso = Lasso(alpha = 0.00001)\n",
        "lasso.fit(X_train, Y_train)\n",
        "Y_pred = lasso.predict(X_train)\n",
        "print(\"MAE =\", mae(Y_train[[\"NO2\"]], Y_pred[:,1]))\n",
        "print(\"MAE =\", mae(Y_train[[\"OZONE\"]], Y_pred[:,0]))"
      ]
    },
    {
      "cell_type": "code",
      "execution_count": 18,
      "id": "5d03730d-c6ee-4af6-9b84-3eb141c2e35f",
      "metadata": {
        "id": "5d03730d-c6ee-4af6-9b84-3eb141c2e35f"
      },
      "outputs": [],
      "source": [
        "from sklearn.svm import SVR"
      ]
    },
    {
      "cell_type": "code",
      "execution_count": 23,
      "id": "e5258681-3a08-4a98-992a-901489441ff1",
      "metadata": {
        "colab": {
          "base_uri": "https://localhost:8080/"
        },
        "id": "e5258681-3a08-4a98-992a-901489441ff1",
        "outputId": "7bb6b553-5f72-4130-f546-e479f7c09656"
      },
      "outputs": [
        {
          "output_type": "stream",
          "name": "stdout",
          "text": [
            "MAE = 5.511455068644706\n"
          ]
        }
      ],
      "source": [
        "svr = SVR()\n",
        "svr.fit(X_train, Y_train.to_numpy()[:,0])\n",
        "Y_pred = svr.predict(X_test)\n",
        "\n",
        "print(\"MAE =\", mae(Y_test[[\"OZONE\"]], Y_pred))"
      ]
    },
    {
      "cell_type": "code",
      "execution_count": 24,
      "id": "f39a5520-8e74-461c-9ba8-7b4ca7cf1d0d",
      "metadata": {
        "colab": {
          "base_uri": "https://localhost:8080/"
        },
        "id": "f39a5520-8e74-461c-9ba8-7b4ca7cf1d0d",
        "outputId": "2466f236-f253-48be-a9b0-b1d7ce19481b"
      },
      "outputs": [
        {
          "output_type": "execute_result",
          "data": {
            "text/plain": [
              "array([[77.59 ],\n",
              "       [78.71 ],\n",
              "       [78.85 ],\n",
              "       ...,\n",
              "       [32.313],\n",
              "       [33.367],\n",
              "       [32.213]])"
            ]
          },
          "metadata": {},
          "execution_count": 24
        }
      ],
      "source": [
        "Y_train[[\"OZONE\"]].to_numpy()"
      ]
    },
    {
      "cell_type": "code",
      "execution_count": 27,
      "id": "84354395-4c71-4e4c-b4fc-5c1a1056dde0",
      "metadata": {
        "colab": {
          "base_uri": "https://localhost:8080/"
        },
        "id": "84354395-4c71-4e4c-b4fc-5c1a1056dde0",
        "outputId": "0ef903fb-7b57-4a91-db0e-e4b8e780f19a"
      },
      "outputs": [
        {
          "output_type": "execute_result",
          "data": {
            "text/plain": [
              "array([77.59 , 78.71 , 78.85 , ..., 32.313, 33.367, 32.213])"
            ]
          },
          "metadata": {},
          "execution_count": 27
        }
      ],
      "source": [
        "Y_train.to_numpy()[:,0]"
      ]
    },
    {
      "cell_type": "code",
      "source": [
        "from sklearn.neighbors import KNeighborsRegressor\n",
        "kneighbor = KNeighborsRegressor(n_neighbors=1,weights='uniform',algorithm='auto',leaf_size=100,p=2,metric='minkowski',metric_params=None,n_jobs=None)\n",
        "kneighbor.fit(X_train,Y_train)\n",
        "Y_pred = kneighbor.predict(X_test)\n",
        "print(\"MAE = \",mae(Y_test,Y_pred))"
      ],
      "metadata": {
        "colab": {
          "base_uri": "https://localhost:8080/"
        },
        "id": "70zhjBQ9YoK1",
        "outputId": "4c6a9897-b2a1-4a62-f078-5366b58a0092"
      },
      "execution_count": 50,
      "outputs": [
        {
          "output_type": "stream",
          "name": "stdout",
          "text": [
            "MAE =  0.5803774000000002\n"
          ]
        }
      ],
      "id": "70zhjBQ9YoK1"
    },
    {
      "cell_type": "code",
      "source": [
        "Y_train"
      ],
      "metadata": {
        "colab": {
          "base_uri": "https://localhost:8080/",
          "height": 423
        },
        "id": "hv3HlzSMcI8c",
        "outputId": "6651ef04-2599-4889-922e-3d1e4b7e16dc"
      },
      "id": "hv3HlzSMcI8c",
      "execution_count": 36,
      "outputs": [
        {
          "output_type": "execute_result",
          "data": {
            "text/plain": [
              "        OZONE     NO2\n",
              "0      77.590   6.881\n",
              "1      78.710  11.057\n",
              "2      78.850   8.596\n",
              "3      79.270   7.248\n",
              "4      80.010   8.638\n",
              "...       ...     ...\n",
              "19995  33.970   3.371\n",
              "19996  33.073   2.883\n",
              "19997  32.313   2.578\n",
              "19998  33.367   2.114\n",
              "19999  32.213   2.479\n",
              "\n",
              "[20000 rows x 2 columns]"
            ],
            "text/html": [
              "\n",
              "  <div id=\"df-1631ef0a-2e71-41b9-af2d-dd0a08105f34\">\n",
              "    <div class=\"colab-df-container\">\n",
              "      <div>\n",
              "<style scoped>\n",
              "    .dataframe tbody tr th:only-of-type {\n",
              "        vertical-align: middle;\n",
              "    }\n",
              "\n",
              "    .dataframe tbody tr th {\n",
              "        vertical-align: top;\n",
              "    }\n",
              "\n",
              "    .dataframe thead th {\n",
              "        text-align: right;\n",
              "    }\n",
              "</style>\n",
              "<table border=\"1\" class=\"dataframe\">\n",
              "  <thead>\n",
              "    <tr style=\"text-align: right;\">\n",
              "      <th></th>\n",
              "      <th>OZONE</th>\n",
              "      <th>NO2</th>\n",
              "    </tr>\n",
              "  </thead>\n",
              "  <tbody>\n",
              "    <tr>\n",
              "      <th>0</th>\n",
              "      <td>77.590</td>\n",
              "      <td>6.881</td>\n",
              "    </tr>\n",
              "    <tr>\n",
              "      <th>1</th>\n",
              "      <td>78.710</td>\n",
              "      <td>11.057</td>\n",
              "    </tr>\n",
              "    <tr>\n",
              "      <th>2</th>\n",
              "      <td>78.850</td>\n",
              "      <td>8.596</td>\n",
              "    </tr>\n",
              "    <tr>\n",
              "      <th>3</th>\n",
              "      <td>79.270</td>\n",
              "      <td>7.248</td>\n",
              "    </tr>\n",
              "    <tr>\n",
              "      <th>4</th>\n",
              "      <td>80.010</td>\n",
              "      <td>8.638</td>\n",
              "    </tr>\n",
              "    <tr>\n",
              "      <th>...</th>\n",
              "      <td>...</td>\n",
              "      <td>...</td>\n",
              "    </tr>\n",
              "    <tr>\n",
              "      <th>19995</th>\n",
              "      <td>33.970</td>\n",
              "      <td>3.371</td>\n",
              "    </tr>\n",
              "    <tr>\n",
              "      <th>19996</th>\n",
              "      <td>33.073</td>\n",
              "      <td>2.883</td>\n",
              "    </tr>\n",
              "    <tr>\n",
              "      <th>19997</th>\n",
              "      <td>32.313</td>\n",
              "      <td>2.578</td>\n",
              "    </tr>\n",
              "    <tr>\n",
              "      <th>19998</th>\n",
              "      <td>33.367</td>\n",
              "      <td>2.114</td>\n",
              "    </tr>\n",
              "    <tr>\n",
              "      <th>19999</th>\n",
              "      <td>32.213</td>\n",
              "      <td>2.479</td>\n",
              "    </tr>\n",
              "  </tbody>\n",
              "</table>\n",
              "<p>20000 rows × 2 columns</p>\n",
              "</div>\n",
              "      <button class=\"colab-df-convert\" onclick=\"convertToInteractive('df-1631ef0a-2e71-41b9-af2d-dd0a08105f34')\"\n",
              "              title=\"Convert this dataframe to an interactive table.\"\n",
              "              style=\"display:none;\">\n",
              "        \n",
              "  <svg xmlns=\"http://www.w3.org/2000/svg\" height=\"24px\"viewBox=\"0 0 24 24\"\n",
              "       width=\"24px\">\n",
              "    <path d=\"M0 0h24v24H0V0z\" fill=\"none\"/>\n",
              "    <path d=\"M18.56 5.44l.94 2.06.94-2.06 2.06-.94-2.06-.94-.94-2.06-.94 2.06-2.06.94zm-11 1L8.5 8.5l.94-2.06 2.06-.94-2.06-.94L8.5 2.5l-.94 2.06-2.06.94zm10 10l.94 2.06.94-2.06 2.06-.94-2.06-.94-.94-2.06-.94 2.06-2.06.94z\"/><path d=\"M17.41 7.96l-1.37-1.37c-.4-.4-.92-.59-1.43-.59-.52 0-1.04.2-1.43.59L10.3 9.45l-7.72 7.72c-.78.78-.78 2.05 0 2.83L4 21.41c.39.39.9.59 1.41.59.51 0 1.02-.2 1.41-.59l7.78-7.78 2.81-2.81c.8-.78.8-2.07 0-2.86zM5.41 20L4 18.59l7.72-7.72 1.47 1.35L5.41 20z\"/>\n",
              "  </svg>\n",
              "      </button>\n",
              "      \n",
              "  <style>\n",
              "    .colab-df-container {\n",
              "      display:flex;\n",
              "      flex-wrap:wrap;\n",
              "      gap: 12px;\n",
              "    }\n",
              "\n",
              "    .colab-df-convert {\n",
              "      background-color: #E8F0FE;\n",
              "      border: none;\n",
              "      border-radius: 50%;\n",
              "      cursor: pointer;\n",
              "      display: none;\n",
              "      fill: #1967D2;\n",
              "      height: 32px;\n",
              "      padding: 0 0 0 0;\n",
              "      width: 32px;\n",
              "    }\n",
              "\n",
              "    .colab-df-convert:hover {\n",
              "      background-color: #E2EBFA;\n",
              "      box-shadow: 0px 1px 2px rgba(60, 64, 67, 0.3), 0px 1px 3px 1px rgba(60, 64, 67, 0.15);\n",
              "      fill: #174EA6;\n",
              "    }\n",
              "\n",
              "    [theme=dark] .colab-df-convert {\n",
              "      background-color: #3B4455;\n",
              "      fill: #D2E3FC;\n",
              "    }\n",
              "\n",
              "    [theme=dark] .colab-df-convert:hover {\n",
              "      background-color: #434B5C;\n",
              "      box-shadow: 0px 1px 3px 1px rgba(0, 0, 0, 0.15);\n",
              "      filter: drop-shadow(0px 1px 2px rgba(0, 0, 0, 0.3));\n",
              "      fill: #FFFFFF;\n",
              "    }\n",
              "  </style>\n",
              "\n",
              "      <script>\n",
              "        const buttonEl =\n",
              "          document.querySelector('#df-1631ef0a-2e71-41b9-af2d-dd0a08105f34 button.colab-df-convert');\n",
              "        buttonEl.style.display =\n",
              "          google.colab.kernel.accessAllowed ? 'block' : 'none';\n",
              "\n",
              "        async function convertToInteractive(key) {\n",
              "          const element = document.querySelector('#df-1631ef0a-2e71-41b9-af2d-dd0a08105f34');\n",
              "          const dataTable =\n",
              "            await google.colab.kernel.invokeFunction('convertToInteractive',\n",
              "                                                     [key], {});\n",
              "          if (!dataTable) return;\n",
              "\n",
              "          const docLinkHtml = 'Like what you see? Visit the ' +\n",
              "            '<a target=\"_blank\" href=https://colab.research.google.com/notebooks/data_table.ipynb>data table notebook</a>'\n",
              "            + ' to learn more about interactive tables.';\n",
              "          element.innerHTML = '';\n",
              "          dataTable['output_type'] = 'display_data';\n",
              "          await google.colab.output.renderOutput(dataTable, element);\n",
              "          const docLink = document.createElement('div');\n",
              "          docLink.innerHTML = docLinkHtml;\n",
              "          element.appendChild(docLink);\n",
              "        }\n",
              "      </script>\n",
              "    </div>\n",
              "  </div>\n",
              "  "
            ]
          },
          "metadata": {},
          "execution_count": 36
        }
      ]
    },
    {
      "cell_type": "code",
      "source": [],
      "metadata": {
        "id": "otvNUcGecHIu"
      },
      "id": "otvNUcGecHIu",
      "execution_count": null,
      "outputs": []
    }
  ],
  "metadata": {
    "kernelspec": {
      "display_name": "Python 3 (ipykernel)",
      "language": "python",
      "name": "python3"
    },
    "language_info": {
      "codemirror_mode": {
        "name": "ipython",
        "version": 3
      },
      "file_extension": ".py",
      "mimetype": "text/x-python",
      "name": "python",
      "nbconvert_exporter": "python",
      "pygments_lexer": "ipython3",
      "version": "3.10.10"
    },
    "colab": {
      "provenance": [],
      "include_colab_link": true
    }
  },
  "nbformat": 4,
  "nbformat_minor": 5
}