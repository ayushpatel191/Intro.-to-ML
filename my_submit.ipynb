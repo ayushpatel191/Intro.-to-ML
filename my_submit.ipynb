{
 "cells": [
  {
   "cell_type": "code",
   "execution_count": 36,
   "id": "c56be2d5-c1ae-453c-aa8b-67259da70572",
   "metadata": {},
   "outputs": [],
   "source": [
    "import numpy as np\n",
    "import pandas as pd\n",
    "\n",
    "train_data = pd.read_csv(\"train.csv\")\n",
    "test_data  = pd.read_csv(\"dummy_test.csv\")"
   ]
  },
  {
   "cell_type": "code",
   "execution_count": 3,
   "id": "a96eeb2c-ea37-491f-9e75-0ddecbf02710",
   "metadata": {},
   "outputs": [
    {
     "data": {
      "text/html": [
       "<div>\n",
       "<style scoped>\n",
       "    .dataframe tbody tr th:only-of-type {\n",
       "        vertical-align: middle;\n",
       "    }\n",
       "\n",
       "    .dataframe tbody tr th {\n",
       "        vertical-align: top;\n",
       "    }\n",
       "\n",
       "    .dataframe thead th {\n",
       "        text-align: right;\n",
       "    }\n",
       "</style>\n",
       "<table border=\"1\" class=\"dataframe\">\n",
       "  <thead>\n",
       "    <tr style=\"text-align: right;\">\n",
       "      <th></th>\n",
       "      <th>Time</th>\n",
       "      <th>OZONE</th>\n",
       "      <th>NO2</th>\n",
       "      <th>temp</th>\n",
       "      <th>humidity</th>\n",
       "      <th>no2op1</th>\n",
       "      <th>no2op2</th>\n",
       "      <th>o3op1</th>\n",
       "      <th>o3op2</th>\n",
       "    </tr>\n",
       "  </thead>\n",
       "  <tbody>\n",
       "    <tr>\n",
       "      <th>0</th>\n",
       "      <td>2019-03-27 13:01:00</td>\n",
       "      <td>77.590</td>\n",
       "      <td>6.881</td>\n",
       "      <td>36.2</td>\n",
       "      <td>38.9</td>\n",
       "      <td>199.0</td>\n",
       "      <td>200.0</td>\n",
       "      <td>240.0</td>\n",
       "      <td>197.0</td>\n",
       "    </tr>\n",
       "    <tr>\n",
       "      <th>1</th>\n",
       "      <td>2019-03-27 13:03:00</td>\n",
       "      <td>78.710</td>\n",
       "      <td>11.057</td>\n",
       "      <td>36.3</td>\n",
       "      <td>37.7</td>\n",
       "      <td>196.0</td>\n",
       "      <td>200.0</td>\n",
       "      <td>237.0</td>\n",
       "      <td>196.0</td>\n",
       "    </tr>\n",
       "    <tr>\n",
       "      <th>2</th>\n",
       "      <td>2019-03-27 13:04:00</td>\n",
       "      <td>78.850</td>\n",
       "      <td>8.596</td>\n",
       "      <td>36.7</td>\n",
       "      <td>38.0</td>\n",
       "      <td>195.0</td>\n",
       "      <td>199.0</td>\n",
       "      <td>235.0</td>\n",
       "      <td>196.0</td>\n",
       "    </tr>\n",
       "    <tr>\n",
       "      <th>3</th>\n",
       "      <td>2019-03-27 13:07:00</td>\n",
       "      <td>79.270</td>\n",
       "      <td>7.248</td>\n",
       "      <td>37.0</td>\n",
       "      <td>37.5</td>\n",
       "      <td>193.0</td>\n",
       "      <td>198.0</td>\n",
       "      <td>233.0</td>\n",
       "      <td>195.0</td>\n",
       "    </tr>\n",
       "    <tr>\n",
       "      <th>4</th>\n",
       "      <td>2019-03-27 13:08:00</td>\n",
       "      <td>80.010</td>\n",
       "      <td>8.638</td>\n",
       "      <td>36.8</td>\n",
       "      <td>36.8</td>\n",
       "      <td>191.0</td>\n",
       "      <td>198.0</td>\n",
       "      <td>231.0</td>\n",
       "      <td>195.0</td>\n",
       "    </tr>\n",
       "    <tr>\n",
       "      <th>...</th>\n",
       "      <td>...</td>\n",
       "      <td>...</td>\n",
       "      <td>...</td>\n",
       "      <td>...</td>\n",
       "      <td>...</td>\n",
       "      <td>...</td>\n",
       "      <td>...</td>\n",
       "      <td>...</td>\n",
       "      <td>...</td>\n",
       "    </tr>\n",
       "    <tr>\n",
       "      <th>19995</th>\n",
       "      <td>2019-05-06 10:19:00</td>\n",
       "      <td>33.970</td>\n",
       "      <td>3.371</td>\n",
       "      <td>27.7</td>\n",
       "      <td>99.9</td>\n",
       "      <td>162.0</td>\n",
       "      <td>164.0</td>\n",
       "      <td>175.0</td>\n",
       "      <td>161.0</td>\n",
       "    </tr>\n",
       "    <tr>\n",
       "      <th>19996</th>\n",
       "      <td>2019-05-06 10:22:00</td>\n",
       "      <td>33.073</td>\n",
       "      <td>2.883</td>\n",
       "      <td>27.4</td>\n",
       "      <td>99.9</td>\n",
       "      <td>170.0</td>\n",
       "      <td>171.0</td>\n",
       "      <td>180.0</td>\n",
       "      <td>168.0</td>\n",
       "    </tr>\n",
       "    <tr>\n",
       "      <th>19997</th>\n",
       "      <td>2019-05-06 10:23:00</td>\n",
       "      <td>32.313</td>\n",
       "      <td>2.578</td>\n",
       "      <td>27.5</td>\n",
       "      <td>99.9</td>\n",
       "      <td>165.0</td>\n",
       "      <td>168.0</td>\n",
       "      <td>175.0</td>\n",
       "      <td>164.0</td>\n",
       "    </tr>\n",
       "    <tr>\n",
       "      <th>19998</th>\n",
       "      <td>2019-05-06 10:24:00</td>\n",
       "      <td>33.367</td>\n",
       "      <td>2.114</td>\n",
       "      <td>27.4</td>\n",
       "      <td>99.9</td>\n",
       "      <td>163.0</td>\n",
       "      <td>166.0</td>\n",
       "      <td>174.0</td>\n",
       "      <td>161.0</td>\n",
       "    </tr>\n",
       "    <tr>\n",
       "      <th>19999</th>\n",
       "      <td>2019-05-06 10:29:00</td>\n",
       "      <td>32.213</td>\n",
       "      <td>2.479</td>\n",
       "      <td>27.2</td>\n",
       "      <td>99.9</td>\n",
       "      <td>167.0</td>\n",
       "      <td>168.0</td>\n",
       "      <td>177.0</td>\n",
       "      <td>162.0</td>\n",
       "    </tr>\n",
       "  </tbody>\n",
       "</table>\n",
       "<p>20000 rows × 9 columns</p>\n",
       "</div>"
      ],
      "text/plain": [
       "                      Time   OZONE     NO2  temp  humidity  no2op1  no2op2  \\\n",
       "0      2019-03-27 13:01:00  77.590   6.881  36.2      38.9   199.0   200.0   \n",
       "1      2019-03-27 13:03:00  78.710  11.057  36.3      37.7   196.0   200.0   \n",
       "2      2019-03-27 13:04:00  78.850   8.596  36.7      38.0   195.0   199.0   \n",
       "3      2019-03-27 13:07:00  79.270   7.248  37.0      37.5   193.0   198.0   \n",
       "4      2019-03-27 13:08:00  80.010   8.638  36.8      36.8   191.0   198.0   \n",
       "...                    ...     ...     ...   ...       ...     ...     ...   \n",
       "19995  2019-05-06 10:19:00  33.970   3.371  27.7      99.9   162.0   164.0   \n",
       "19996  2019-05-06 10:22:00  33.073   2.883  27.4      99.9   170.0   171.0   \n",
       "19997  2019-05-06 10:23:00  32.313   2.578  27.5      99.9   165.0   168.0   \n",
       "19998  2019-05-06 10:24:00  33.367   2.114  27.4      99.9   163.0   166.0   \n",
       "19999  2019-05-06 10:29:00  32.213   2.479  27.2      99.9   167.0   168.0   \n",
       "\n",
       "       o3op1  o3op2  \n",
       "0      240.0  197.0  \n",
       "1      237.0  196.0  \n",
       "2      235.0  196.0  \n",
       "3      233.0  195.0  \n",
       "4      231.0  195.0  \n",
       "...      ...    ...  \n",
       "19995  175.0  161.0  \n",
       "19996  180.0  168.0  \n",
       "19997  175.0  164.0  \n",
       "19998  174.0  161.0  \n",
       "19999  177.0  162.0  \n",
       "\n",
       "[20000 rows x 9 columns]"
      ]
     },
     "execution_count": 3,
     "metadata": {},
     "output_type": "execute_result"
    }
   ],
   "source": [
    "train_data"
   ]
  },
  {
   "cell_type": "code",
   "execution_count": 4,
   "id": "46657ec9-0c38-4b4a-bc9b-9ed88d821483",
   "metadata": {},
   "outputs": [
    {
     "data": {
      "text/html": [
       "<div>\n",
       "<style scoped>\n",
       "    .dataframe tbody tr th:only-of-type {\n",
       "        vertical-align: middle;\n",
       "    }\n",
       "\n",
       "    .dataframe tbody tr th {\n",
       "        vertical-align: top;\n",
       "    }\n",
       "\n",
       "    .dataframe thead th {\n",
       "        text-align: right;\n",
       "    }\n",
       "</style>\n",
       "<table border=\"1\" class=\"dataframe\">\n",
       "  <thead>\n",
       "    <tr style=\"text-align: right;\">\n",
       "      <th></th>\n",
       "      <th>Time</th>\n",
       "      <th>OZONE</th>\n",
       "      <th>NO2</th>\n",
       "      <th>temp</th>\n",
       "      <th>humidity</th>\n",
       "      <th>no2op1</th>\n",
       "      <th>no2op2</th>\n",
       "      <th>o3op1</th>\n",
       "      <th>o3op2</th>\n",
       "    </tr>\n",
       "  </thead>\n",
       "  <tbody>\n",
       "    <tr>\n",
       "      <th>0</th>\n",
       "      <td>2019-03-27 17:05:00</td>\n",
       "      <td>71.327</td>\n",
       "      <td>8.801</td>\n",
       "      <td>41.2</td>\n",
       "      <td>28.9</td>\n",
       "      <td>179.0</td>\n",
       "      <td>194.0</td>\n",
       "      <td>220.0</td>\n",
       "      <td>192.0</td>\n",
       "    </tr>\n",
       "    <tr>\n",
       "      <th>1</th>\n",
       "      <td>2019-03-27 17:06:00</td>\n",
       "      <td>72.317</td>\n",
       "      <td>5.536</td>\n",
       "      <td>41.1</td>\n",
       "      <td>28.8</td>\n",
       "      <td>181.0</td>\n",
       "      <td>196.0</td>\n",
       "      <td>222.0</td>\n",
       "      <td>192.0</td>\n",
       "    </tr>\n",
       "    <tr>\n",
       "      <th>2</th>\n",
       "      <td>2019-03-27 17:07:00</td>\n",
       "      <td>74.440</td>\n",
       "      <td>4.574</td>\n",
       "      <td>41.0</td>\n",
       "      <td>29.0</td>\n",
       "      <td>181.0</td>\n",
       "      <td>195.0</td>\n",
       "      <td>222.0</td>\n",
       "      <td>192.0</td>\n",
       "    </tr>\n",
       "    <tr>\n",
       "      <th>3</th>\n",
       "      <td>2019-03-27 17:09:00</td>\n",
       "      <td>74.033</td>\n",
       "      <td>6.426</td>\n",
       "      <td>40.9</td>\n",
       "      <td>28.9</td>\n",
       "      <td>179.0</td>\n",
       "      <td>194.0</td>\n",
       "      <td>220.0</td>\n",
       "      <td>192.0</td>\n",
       "    </tr>\n",
       "    <tr>\n",
       "      <th>4</th>\n",
       "      <td>2019-03-27 17:13:00</td>\n",
       "      <td>73.080</td>\n",
       "      <td>5.825</td>\n",
       "      <td>40.9</td>\n",
       "      <td>28.1</td>\n",
       "      <td>181.0</td>\n",
       "      <td>195.0</td>\n",
       "      <td>222.0</td>\n",
       "      <td>193.0</td>\n",
       "    </tr>\n",
       "    <tr>\n",
       "      <th>...</th>\n",
       "      <td>...</td>\n",
       "      <td>...</td>\n",
       "      <td>...</td>\n",
       "      <td>...</td>\n",
       "      <td>...</td>\n",
       "      <td>...</td>\n",
       "      <td>...</td>\n",
       "      <td>...</td>\n",
       "      <td>...</td>\n",
       "    </tr>\n",
       "    <tr>\n",
       "      <th>4995</th>\n",
       "      <td>2019-04-14 05:36:00</td>\n",
       "      <td>8.432</td>\n",
       "      <td>24.427</td>\n",
       "      <td>31.2</td>\n",
       "      <td>99.9</td>\n",
       "      <td>201.0</td>\n",
       "      <td>204.0</td>\n",
       "      <td>203.0</td>\n",
       "      <td>202.0</td>\n",
       "    </tr>\n",
       "    <tr>\n",
       "      <th>4996</th>\n",
       "      <td>2019-04-14 05:41:00</td>\n",
       "      <td>9.808</td>\n",
       "      <td>19.480</td>\n",
       "      <td>31.2</td>\n",
       "      <td>99.9</td>\n",
       "      <td>197.0</td>\n",
       "      <td>204.0</td>\n",
       "      <td>199.0</td>\n",
       "      <td>201.0</td>\n",
       "    </tr>\n",
       "    <tr>\n",
       "      <th>4997</th>\n",
       "      <td>2019-04-14 05:42:00</td>\n",
       "      <td>8.782</td>\n",
       "      <td>17.423</td>\n",
       "      <td>31.1</td>\n",
       "      <td>99.9</td>\n",
       "      <td>199.0</td>\n",
       "      <td>204.0</td>\n",
       "      <td>200.0</td>\n",
       "      <td>201.0</td>\n",
       "    </tr>\n",
       "    <tr>\n",
       "      <th>4998</th>\n",
       "      <td>2019-04-14 05:44:00</td>\n",
       "      <td>9.678</td>\n",
       "      <td>16.017</td>\n",
       "      <td>31.2</td>\n",
       "      <td>99.9</td>\n",
       "      <td>200.0</td>\n",
       "      <td>204.0</td>\n",
       "      <td>201.0</td>\n",
       "      <td>202.0</td>\n",
       "    </tr>\n",
       "    <tr>\n",
       "      <th>4999</th>\n",
       "      <td>2019-04-14 05:45:00</td>\n",
       "      <td>9.579</td>\n",
       "      <td>14.750</td>\n",
       "      <td>31.2</td>\n",
       "      <td>99.9</td>\n",
       "      <td>198.0</td>\n",
       "      <td>204.0</td>\n",
       "      <td>199.0</td>\n",
       "      <td>201.0</td>\n",
       "    </tr>\n",
       "  </tbody>\n",
       "</table>\n",
       "<p>5000 rows × 9 columns</p>\n",
       "</div>"
      ],
      "text/plain": [
       "                     Time   OZONE     NO2  temp  humidity  no2op1  no2op2  \\\n",
       "0     2019-03-27 17:05:00  71.327   8.801  41.2      28.9   179.0   194.0   \n",
       "1     2019-03-27 17:06:00  72.317   5.536  41.1      28.8   181.0   196.0   \n",
       "2     2019-03-27 17:07:00  74.440   4.574  41.0      29.0   181.0   195.0   \n",
       "3     2019-03-27 17:09:00  74.033   6.426  40.9      28.9   179.0   194.0   \n",
       "4     2019-03-27 17:13:00  73.080   5.825  40.9      28.1   181.0   195.0   \n",
       "...                   ...     ...     ...   ...       ...     ...     ...   \n",
       "4995  2019-04-14 05:36:00   8.432  24.427  31.2      99.9   201.0   204.0   \n",
       "4996  2019-04-14 05:41:00   9.808  19.480  31.2      99.9   197.0   204.0   \n",
       "4997  2019-04-14 05:42:00   8.782  17.423  31.1      99.9   199.0   204.0   \n",
       "4998  2019-04-14 05:44:00   9.678  16.017  31.2      99.9   200.0   204.0   \n",
       "4999  2019-04-14 05:45:00   9.579  14.750  31.2      99.9   198.0   204.0   \n",
       "\n",
       "      o3op1  o3op2  \n",
       "0     220.0  192.0  \n",
       "1     222.0  192.0  \n",
       "2     222.0  192.0  \n",
       "3     220.0  192.0  \n",
       "4     222.0  193.0  \n",
       "...     ...    ...  \n",
       "4995  203.0  202.0  \n",
       "4996  199.0  201.0  \n",
       "4997  200.0  201.0  \n",
       "4998  201.0  202.0  \n",
       "4999  199.0  201.0  \n",
       "\n",
       "[5000 rows x 9 columns]"
      ]
     },
     "execution_count": 4,
     "metadata": {},
     "output_type": "execute_result"
    }
   ],
   "source": [
    "test_data"
   ]
  },
  {
   "cell_type": "code",
   "execution_count": 37,
   "id": "382c85c6-c18b-46ef-a7f2-2b38f4bba997",
   "metadata": {},
   "outputs": [],
   "source": [
    "X_train = train_data[[\"no2op1\", \"no2op2\", \"o3op1\", \"o3op2\"]]\n",
    "Y_train = train_data[[\"OZONE\", \"NO2\"]]"
   ]
  },
  {
   "cell_type": "code",
   "execution_count": 38,
   "id": "0873f872-3e9e-4443-9d24-2e588f9c3168",
   "metadata": {},
   "outputs": [],
   "source": [
    "X_test = test_data[[\"no2op1\", \"no2op2\", \"o3op1\", \"o3op2\"]]\n",
    "Y_test = test_data[[\"OZONE\", \"NO2\"]]"
   ]
  },
  {
   "cell_type": "code",
   "execution_count": 7,
   "id": "7eb6cab5-fc3f-4793-8d43-ae06c670fa85",
   "metadata": {},
   "outputs": [],
   "source": [
    "### Models below ###"
   ]
  },
  {
   "cell_type": "code",
   "execution_count": 39,
   "id": "04c3e055-805f-4ab4-8648-0702ee779b30",
   "metadata": {},
   "outputs": [],
   "source": [
    "from sklearn.metrics import mean_absolute_error as mae"
   ]
  },
  {
   "cell_type": "code",
   "execution_count": 40,
   "id": "6f80e8d3-09ba-4ccf-9058-ada6468cd264",
   "metadata": {},
   "outputs": [],
   "source": [
    "from sklearn.linear_model import LinearRegression"
   ]
  },
  {
   "cell_type": "code",
   "execution_count": 89,
   "id": "f8bc5559-e0d6-42c2-81e8-aee488e9586a",
   "metadata": {},
   "outputs": [
    {
     "name": "stdout",
     "output_type": "stream",
     "text": [
      "MAE = 6.083018914678867\n",
      "MAE = 6.540100093842793\n",
      "MAE = 5.625937735514925\n"
     ]
    }
   ],
   "source": [
    "linreg = LinearRegression()\n",
    "\n",
    "linreg.fit(X_train, Y_train)\n",
    "Y_pred = linreg.predict(X_train)\n",
    "print(\"MAE =\", mae(Y_train, Y_pred))\n",
    "print(\"MAE =\", mae(Y_train[[\"NO2\"]], Y_pred[:,1]))\n",
    "print(\"MAE =\", mae(Y_train[[\"OZONE\"]], Y_pred[:,0]))"
   ]
  },
  {
   "cell_type": "code",
   "execution_count": 11,
   "id": "5cb1a607-983c-449f-92e1-00bf40349ab3",
   "metadata": {},
   "outputs": [],
   "source": [
    "import matplotlib.pyplot  as plt"
   ]
  },
  {
   "cell_type": "code",
   "execution_count": 12,
   "id": "22d34298-9a36-498e-a044-1a006082fdfc",
   "metadata": {},
   "outputs": [],
   "source": [
    "from sklearn.linear_model import Ridge, Lasso"
   ]
  },
  {
   "cell_type": "code",
   "execution_count": 44,
   "id": "4a3ffdc1-aca3-4354-a21c-386b483f2083",
   "metadata": {},
   "outputs": [
    {
     "name": "stdout",
     "output_type": "stream",
     "text": [
      "MAE = 6.114020194736996\n"
     ]
    }
   ],
   "source": [
    "ridge = Ridge(alpha = 10)\n",
    "ridge.fit(X_train, Y_train)\n",
    "Y_pred = ridge.predict(X_test)\n",
    "print(\"MAE =\", mae(Y_test, Y_pred))"
   ]
  },
  {
   "cell_type": "code",
   "execution_count": 49,
   "id": "81525910-05f7-4419-a514-b60cc7cfab1a",
   "metadata": {},
   "outputs": [
    {
     "name": "stdout",
     "output_type": "stream",
     "text": [
      "MAE = 6.114016019178204\n"
     ]
    }
   ],
   "source": [
    "ridge = Ridge(alpha = 0.0010)\n",
    "ridge.fit(X_train, Y_train)\n",
    "Y_pred = ridge.predict(X_test)\n",
    "print(\"MAE =\", mae(Y_test, Y_pred))"
   ]
  },
  {
   "cell_type": "code",
   "execution_count": 57,
   "id": "5985ed31-9acf-47b1-b5e3-81b6d5f75807",
   "metadata": {},
   "outputs": [
    {
     "name": "stdout",
     "output_type": "stream",
     "text": [
      "MAE = 6.082783654095026\n"
     ]
    }
   ],
   "source": [
    "ridge = Ridge(alpha = 100)\n",
    "ridge.fit(X_train, Y_train)\n",
    "Y_pred = ridge.predict(X_train)\n",
    "print(\"MAE =\", mae(Y_train, Y_pred))"
   ]
  },
  {
   "cell_type": "code",
   "execution_count": 88,
   "id": "cde02905-821e-4eb3-a77e-8f1e538f20bd",
   "metadata": {},
   "outputs": [
    {
     "name": "stdout",
     "output_type": "stream",
     "text": [
      "MAE = 6.0817467345623175\n",
      "MAE = 6.536821620242424\n",
      "MAE = 5.626671848882224\n"
     ]
    }
   ],
   "source": [
    "ridge = Ridge(alpha = 1000)\n",
    "ridge.fit(X_train, Y_train)\n",
    "Y_pred = ridge.predict(X_train)\n",
    "print(\"MAE =\", mae(Y_train, Y_pred))\n",
    "print(\"MAE =\", mae(Y_train[[\"NO2\"]], Y_pred[:,1]))\n",
    "print(\"MAE =\", mae(Y_train[[\"OZONE\"]], Y_pred[:,0]))"
   ]
  },
  {
   "cell_type": "code",
   "execution_count": 85,
   "id": "177f8fd1-7bf6-4fdd-ad90-0d4b9c48b781",
   "metadata": {},
   "outputs": [
    {
     "name": "stdout",
     "output_type": "stream",
     "text": [
      "MAE = 6.537024370281168\n",
      "MAE = 5.625934686641408\n"
     ]
    },
    {
     "name": "stderr",
     "output_type": "stream",
     "text": [
      "/home/dwijrajhari/.local/lib/python3.10/site-packages/sklearn/linear_model/_coordinate_descent.py:648: ConvergenceWarning: Objective did not converge. You might want to increase the number of iterations, check the scale of the features or consider increasing regularisation. Duality gap: 5.604e+05, tolerance: 7.077e+02\n",
      "  model = cd_fast.enet_coordinate_descent(\n",
      "/home/dwijrajhari/.local/lib/python3.10/site-packages/sklearn/linear_model/_coordinate_descent.py:648: ConvergenceWarning: Objective did not converge. You might want to increase the number of iterations, check the scale of the features or consider increasing regularisation. Duality gap: 8.275e+05, tolerance: 2.355e+02\n",
      "  model = cd_fast.enet_coordinate_descent(\n"
     ]
    }
   ],
   "source": [
    "lasso = Lasso(alpha = 0.0001)\n",
    "lasso.fit(X_train, Y_train)\n",
    "Y_pred = lasso.predict(X_train)\n",
    "print(\"MAE =\", mae(Y_train[[\"NO2\"]], Y_pred[:,1]))\n",
    "print(\"MAE =\", mae(Y_train[[\"OZONE\"]], Y_pred[:,0]))"
   ]
  },
  {
   "cell_type": "code",
   "execution_count": 87,
   "id": "2b570d0e-5cf4-4085-be62-8be091105dda",
   "metadata": {},
   "outputs": [
    {
     "name": "stdout",
     "output_type": "stream",
     "text": [
      "MAE = 6.537028661060859\n",
      "MAE = 5.625934951112157\n"
     ]
    },
    {
     "name": "stderr",
     "output_type": "stream",
     "text": [
      "/home/dwijrajhari/.local/lib/python3.10/site-packages/sklearn/linear_model/_coordinate_descent.py:648: ConvergenceWarning: Objective did not converge. You might want to increase the number of iterations, check the scale of the features or consider increasing regularisation. Duality gap: 5.622e+05, tolerance: 7.077e+02\n",
      "  model = cd_fast.enet_coordinate_descent(\n",
      "/home/dwijrajhari/.local/lib/python3.10/site-packages/sklearn/linear_model/_coordinate_descent.py:648: ConvergenceWarning: Objective did not converge. You might want to increase the number of iterations, check the scale of the features or consider increasing regularisation. Duality gap: 8.289e+05, tolerance: 2.355e+02\n",
      "  model = cd_fast.enet_coordinate_descent(\n"
     ]
    }
   ],
   "source": [
    "lasso = Lasso(alpha = 0.00001)\n",
    "lasso.fit(X_train, Y_train)\n",
    "Y_pred = lasso.predict(X_train)\n",
    "print(\"MAE =\", mae(Y_train[[\"NO2\"]], Y_pred[:,1]))\n",
    "print(\"MAE =\", mae(Y_train[[\"OZONE\"]], Y_pred[:,0]))"
   ]
  },
  {
   "cell_type": "code",
   "execution_count": 16,
   "id": "5d03730d-c6ee-4af6-9b84-3eb141c2e35f",
   "metadata": {},
   "outputs": [],
   "source": [
    "from sklearn.svm import SVR"
   ]
  },
  {
   "cell_type": "code",
   "execution_count": 32,
   "id": "e5258681-3a08-4a98-992a-901489441ff1",
   "metadata": {},
   "outputs": [
    {
     "ename": "ValueError",
     "evalue": "y_true and y_pred have different number of output (2!=1)",
     "output_type": "error",
     "traceback": [
      "\u001b[0;31m---------------------------------------------------------------------------\u001b[0m",
      "\u001b[0;31mValueError\u001b[0m                                Traceback (most recent call last)",
      "Input \u001b[0;32mIn [32]\u001b[0m, in \u001b[0;36m<cell line: 4>\u001b[0;34m()\u001b[0m\n\u001b[1;32m      2\u001b[0m svr\u001b[38;5;241m.\u001b[39mfit(X_train, Y_train\u001b[38;5;241m.\u001b[39mto_numpy()[:,\u001b[38;5;241m0\u001b[39m])\n\u001b[1;32m      3\u001b[0m Y_pred \u001b[38;5;241m=\u001b[39m svr\u001b[38;5;241m.\u001b[39mpredict(X_test)\n\u001b[0;32m----> 4\u001b[0m \u001b[38;5;28mprint\u001b[39m(\u001b[38;5;124m\"\u001b[39m\u001b[38;5;124mMAE =\u001b[39m\u001b[38;5;124m\"\u001b[39m, \u001b[43mmae\u001b[49m\u001b[43m(\u001b[49m\u001b[43mY_test\u001b[49m\u001b[43m,\u001b[49m\u001b[43m \u001b[49m\u001b[43mY_pred\u001b[49m\u001b[43m)\u001b[49m)\n",
      "File \u001b[0;32m~/.local/lib/python3.10/site-packages/sklearn/metrics/_regression.py:196\u001b[0m, in \u001b[0;36mmean_absolute_error\u001b[0;34m(y_true, y_pred, sample_weight, multioutput)\u001b[0m\n\u001b[1;32m    141\u001b[0m \u001b[38;5;28;01mdef\u001b[39;00m \u001b[38;5;21mmean_absolute_error\u001b[39m(\n\u001b[1;32m    142\u001b[0m     y_true, y_pred, \u001b[38;5;241m*\u001b[39m, sample_weight\u001b[38;5;241m=\u001b[39m\u001b[38;5;28;01mNone\u001b[39;00m, multioutput\u001b[38;5;241m=\u001b[39m\u001b[38;5;124m\"\u001b[39m\u001b[38;5;124muniform_average\u001b[39m\u001b[38;5;124m\"\u001b[39m\n\u001b[1;32m    143\u001b[0m ):\n\u001b[1;32m    144\u001b[0m \u001b[38;5;250m    \u001b[39m\u001b[38;5;124;03m\"\"\"Mean absolute error regression loss.\u001b[39;00m\n\u001b[1;32m    145\u001b[0m \n\u001b[1;32m    146\u001b[0m \u001b[38;5;124;03m    Read more in the :ref:`User Guide <mean_absolute_error>`.\u001b[39;00m\n\u001b[0;32m   (...)\u001b[0m\n\u001b[1;32m    194\u001b[0m \u001b[38;5;124;03m    0.85...\u001b[39;00m\n\u001b[1;32m    195\u001b[0m \u001b[38;5;124;03m    \"\"\"\u001b[39;00m\n\u001b[0;32m--> 196\u001b[0m     y_type, y_true, y_pred, multioutput \u001b[38;5;241m=\u001b[39m \u001b[43m_check_reg_targets\u001b[49m\u001b[43m(\u001b[49m\n\u001b[1;32m    197\u001b[0m \u001b[43m        \u001b[49m\u001b[43my_true\u001b[49m\u001b[43m,\u001b[49m\u001b[43m \u001b[49m\u001b[43my_pred\u001b[49m\u001b[43m,\u001b[49m\u001b[43m \u001b[49m\u001b[43mmultioutput\u001b[49m\n\u001b[1;32m    198\u001b[0m \u001b[43m    \u001b[49m\u001b[43m)\u001b[49m\n\u001b[1;32m    199\u001b[0m     check_consistent_length(y_true, y_pred, sample_weight)\n\u001b[1;32m    200\u001b[0m     output_errors \u001b[38;5;241m=\u001b[39m np\u001b[38;5;241m.\u001b[39maverage(np\u001b[38;5;241m.\u001b[39mabs(y_pred \u001b[38;5;241m-\u001b[39m y_true), weights\u001b[38;5;241m=\u001b[39msample_weight, axis\u001b[38;5;241m=\u001b[39m\u001b[38;5;241m0\u001b[39m)\n",
      "File \u001b[0;32m~/.local/lib/python3.10/site-packages/sklearn/metrics/_regression.py:111\u001b[0m, in \u001b[0;36m_check_reg_targets\u001b[0;34m(y_true, y_pred, multioutput, dtype)\u001b[0m\n\u001b[1;32m    108\u001b[0m     y_pred \u001b[38;5;241m=\u001b[39m y_pred\u001b[38;5;241m.\u001b[39mreshape((\u001b[38;5;241m-\u001b[39m\u001b[38;5;241m1\u001b[39m, \u001b[38;5;241m1\u001b[39m))\n\u001b[1;32m    110\u001b[0m \u001b[38;5;28;01mif\u001b[39;00m y_true\u001b[38;5;241m.\u001b[39mshape[\u001b[38;5;241m1\u001b[39m] \u001b[38;5;241m!=\u001b[39m y_pred\u001b[38;5;241m.\u001b[39mshape[\u001b[38;5;241m1\u001b[39m]:\n\u001b[0;32m--> 111\u001b[0m     \u001b[38;5;28;01mraise\u001b[39;00m \u001b[38;5;167;01mValueError\u001b[39;00m(\n\u001b[1;32m    112\u001b[0m         \u001b[38;5;124m\"\u001b[39m\u001b[38;5;124my_true and y_pred have different number of output (\u001b[39m\u001b[38;5;132;01m{0}\u001b[39;00m\u001b[38;5;124m!=\u001b[39m\u001b[38;5;132;01m{1}\u001b[39;00m\u001b[38;5;124m)\u001b[39m\u001b[38;5;124m\"\u001b[39m\u001b[38;5;241m.\u001b[39mformat(\n\u001b[1;32m    113\u001b[0m             y_true\u001b[38;5;241m.\u001b[39mshape[\u001b[38;5;241m1\u001b[39m], y_pred\u001b[38;5;241m.\u001b[39mshape[\u001b[38;5;241m1\u001b[39m]\n\u001b[1;32m    114\u001b[0m         )\n\u001b[1;32m    115\u001b[0m     )\n\u001b[1;32m    117\u001b[0m n_outputs \u001b[38;5;241m=\u001b[39m y_true\u001b[38;5;241m.\u001b[39mshape[\u001b[38;5;241m1\u001b[39m]\n\u001b[1;32m    118\u001b[0m allowed_multioutput_str \u001b[38;5;241m=\u001b[39m (\u001b[38;5;124m\"\u001b[39m\u001b[38;5;124mraw_values\u001b[39m\u001b[38;5;124m\"\u001b[39m, \u001b[38;5;124m\"\u001b[39m\u001b[38;5;124muniform_average\u001b[39m\u001b[38;5;124m\"\u001b[39m, \u001b[38;5;124m\"\u001b[39m\u001b[38;5;124mvariance_weighted\u001b[39m\u001b[38;5;124m\"\u001b[39m)\n",
      "\u001b[0;31mValueError\u001b[0m: y_true and y_pred have different number of output (2!=1)"
     ]
    }
   ],
   "source": [
    "svr = SVR()\n",
    "svr.fit(X_train, Y_train.to_numpy()[:,0])\n",
    "Y_pred = svr.predict(X_test)\n",
    "print(\"MAE =\", mae(Y_test, Y_pred))"
   ]
  },
  {
   "cell_type": "code",
   "execution_count": 17,
   "id": "f39a5520-8e74-461c-9ba8-7b4ca7cf1d0d",
   "metadata": {},
   "outputs": [
    {
     "data": {
      "text/plain": [
       "array([[77.59 ],\n",
       "       [78.71 ],\n",
       "       [78.85 ],\n",
       "       ...,\n",
       "       [32.313],\n",
       "       [33.367],\n",
       "       [32.213]])"
      ]
     },
     "execution_count": 17,
     "metadata": {},
     "output_type": "execute_result"
    }
   ],
   "source": [
    "Y_train[[\"OZONE\"]].to_numpy()"
   ]
  },
  {
   "cell_type": "code",
   "execution_count": 31,
   "id": "84354395-4c71-4e4c-b4fc-5c1a1056dde0",
   "metadata": {},
   "outputs": [
    {
     "data": {
      "text/plain": [
       "array([77.59 , 78.71 , 78.85 , ..., 32.313, 33.367, 32.213])"
      ]
     },
     "execution_count": 31,
     "metadata": {},
     "output_type": "execute_result"
    }
   ],
   "source": [
    "Y_train.to_numpy()[:,0]"
   ]
  },
  {
   "cell_type": "code",
   "execution_count": null,
   "id": "d6898834-b7ec-4925-a891-f94f733b0ce1",
   "metadata": {},
   "outputs": [],
   "source": []
  }
 ],
 "metadata": {
  "kernelspec": {
   "display_name": "Python 3 (ipykernel)",
   "language": "python",
   "name": "python3"
  },
  "language_info": {
   "codemirror_mode": {
    "name": "ipython",
    "version": 3
   },
   "file_extension": ".py",
   "mimetype": "text/x-python",
   "name": "python",
   "nbconvert_exporter": "python",
   "pygments_lexer": "ipython3",
   "version": "3.10.10"
  }
 },
 "nbformat": 4,
 "nbformat_minor": 5
}
